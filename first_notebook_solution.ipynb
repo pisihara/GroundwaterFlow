{
 "cells": [
  {
   "cell_type": "markdown",
   "id": "advisory-princeton",
   "metadata": {},
   "source": [
    "# First Large heading\n",
    "This notebook is a brief introduction to Jupyter Notebooks. Any cell can be turned into Markdown by selecting from the type menu or typing 'm' while the cell is selected (not with \n",
    "\n",
    "## Smaller heading\n",
    "More hashtags = smaller headings\n",
    "\n",
    "## $\\LaTeX$ in Markdown\n",
    "Markdown cells can process $\\LaTeX$ code like this equation: $x^2 + x + 1 = 0$, the solution of which is a set of two complex numbers."
   ]
  },
  {
   "cell_type": "markdown",
   "id": "liable-egyptian",
   "metadata": {},
   "source": [
    "## Some Basics\n",
    "\n",
    "The below cells note the basics of Python syntax, namely variable assignment, mathematical operations, functions, and loops."
   ]
  },
  {
   "cell_type": "code",
   "execution_count": 27,
   "id": "preceding-environment",
   "metadata": {},
   "outputs": [
    {
     "name": "stdout",
     "output_type": "stream",
     "text": [
      "Sum: 9 \n",
      "Power: 128\n",
      "Difference: -5\n",
      "Product: 14 \n",
      "quotient: 0.2857142857142857\n"
     ]
    }
   ],
   "source": [
    "# assign some non-equal variables (this comment is ignored by python)\n",
    "a = 2\n",
    "b = 7\n",
    "print(\"Sum:\", a+b, \"\\nPower:\", a**b)\n",
    "\n",
    "## print the difference, product, and quotient of a and b using this space:\n",
    "print('Difference:', a-b)\n",
    "print('Product:', a*b, \"\\nquotient:\", a/b)"
   ]
  },
  {
   "cell_type": "code",
   "execution_count": 33,
   "id": "amazing-anniversary",
   "metadata": {
    "scrolled": true
   },
   "outputs": [
    {
     "name": "stdout",
     "output_type": "stream",
     "text": [
      "First argument is smaller\n",
      "2\n",
      "3\n",
      "4\n",
      "5\n",
      "6\n",
      "Difference: -5 Number of integers 6\n"
     ]
    }
   ],
   "source": [
    "# import a special function we need and give it a new name\n",
    "from time import sleep as nap\n",
    "\n",
    "# define a function\n",
    "def compareAndCount(x, y):\n",
    "    # the colon \":\" and indentation are crucial in Python syntax \n",
    "    # note them below also in the if--(then)--elif--else structure\n",
    "    \n",
    "    # comparison:\n",
    "    if x < y:\n",
    "        print('First argument is smaller')\n",
    "    elif x > y: # stands for else if\n",
    "        # when the first thing is not true, but this is, this statement gets executed\n",
    "        print('First argument is larger')\n",
    "    else:\n",
    "        #### if x is neither less nor more than y, how would you describe their relation? print it below\n",
    "        print('The two arguments are equal')\n",
    "        ####\n",
    "        \n",
    "    indicator = x-y\n",
    "    \n",
    "    # for loop: executes the code for a set number of iterations or values of a parameter, \n",
    "    # in this case the variable i.\n",
    "    count = 1 # last one won't be counted in loop\n",
    "    for i in range(a, b, -int(indicator/abs(indicator))):\n",
    "        count = count + 1 # increment the count\n",
    "        sleep(0.3)\n",
    "        print(i)\n",
    "    \n",
    "    return indicator, count\n",
    "\n",
    "# what is the output of comparing a and b? (both the text and the return value)\n",
    "difference, numInts = compareAndCount(a, b)\n",
    "print(\"Difference:\", difference, \"Number of integers\", numInts)"
   ]
  },
  {
   "cell_type": "markdown",
   "id": "naval-coast",
   "metadata": {},
   "source": [
    "Here's another example of a loop, a `while` loop (take a look in this cell how text is offset as code using accents: \\`), which executes whenever the condition after is true. Run the cell. Once you stop it, see how you can fix it."
   ]
  },
  {
   "cell_type": "code",
   "execution_count": 39,
   "id": "composite-summary",
   "metadata": {},
   "outputs": [
    {
     "name": "stdout",
     "output_type": "stream",
     "text": [
      "Countdown:\n",
      "10\n",
      "This might be an infinite loop, stop it by hitting 'i' twice or \n",
      "clicking the black square in the toolbox to interrupt the kernel\n",
      "11\n",
      "This might be an infinite loop, stop it by hitting 'i' twice or \n",
      "clicking the black square in the toolbox to interrupt the kernel\n",
      "12\n",
      "This might be an infinite loop, stop it by hitting 'i' twice or \n",
      "clicking the black square in the toolbox to interrupt the kernel\n",
      "13\n",
      "This might be an infinite loop, stop it by hitting 'i' twice or \n",
      "clicking the black square in the toolbox to interrupt the kernel\n",
      "14\n",
      "This might be an infinite loop, stop it by hitting 'i' twice or \n",
      "clicking the black square in the toolbox to interrupt the kernel\n",
      "15\n",
      "This might be an infinite loop, stop it by hitting 'i' twice or \n",
      "clicking the black square in the toolbox to interrupt the kernel\n"
     ]
    },
    {
     "ename": "KeyboardInterrupt",
     "evalue": "",
     "output_type": "error",
     "traceback": [
      "\u001b[1;31m---------------------------------------------------------------------------\u001b[0m",
      "\u001b[1;31mKeyboardInterrupt\u001b[0m                         Traceback (most recent call last)",
      "\u001b[1;32m<ipython-input-39-6ed165dde946>\u001b[0m in \u001b[0;36m<module>\u001b[1;34m\u001b[0m\n\u001b[0;32m      2\u001b[0m \u001b[0mi\u001b[0m \u001b[1;33m=\u001b[0m \u001b[1;36m10\u001b[0m\u001b[1;33m\u001b[0m\u001b[1;33m\u001b[0m\u001b[0m\n\u001b[0;32m      3\u001b[0m \u001b[1;32mwhile\u001b[0m \u001b[0mi\u001b[0m \u001b[1;33m>\u001b[0m \u001b[1;36m0\u001b[0m\u001b[1;33m:\u001b[0m\u001b[1;33m\u001b[0m\u001b[1;33m\u001b[0m\u001b[0m\n\u001b[1;32m----> 4\u001b[1;33m     \u001b[0mnap\u001b[0m\u001b[1;33m(\u001b[0m\u001b[1;36m1\u001b[0m\u001b[1;33m)\u001b[0m\u001b[1;33m\u001b[0m\u001b[1;33m\u001b[0m\u001b[0m\n\u001b[0m\u001b[0;32m      5\u001b[0m     \u001b[0mprint\u001b[0m\u001b[1;33m(\u001b[0m\u001b[0mi\u001b[0m\u001b[1;33m)\u001b[0m\u001b[1;33m\u001b[0m\u001b[1;33m\u001b[0m\u001b[0m\n\u001b[0;32m      6\u001b[0m     print(\"This might be an infinite loop, stop it by hitting 'i' twice or \\n\" + # strings may be concatenated\n",
      "\u001b[1;31mKeyboardInterrupt\u001b[0m: "
     ]
    }
   ],
   "source": [
    "## Original:\n",
    "print(\"Countdown:\")\n",
    "i = 10\n",
    "while i >= 0:\n",
    "    nap(1)\n",
    "    print(i)\n",
    "    print(\"This might be an infinite loop, stop it by hitting 'i' twice or \\n\" + # strings may be concatenated\n",
    "          \"clicking the black square in the toolbox to interrupt the kernel\")\n",
    "    i += 1 # same as i = i + 1\n",
    "    \n",
    "print('Blast Off!')"
   ]
  },
  {
   "cell_type": "code",
   "execution_count": 41,
   "id": "compatible-railway",
   "metadata": {},
   "outputs": [
    {
     "name": "stdout",
     "output_type": "stream",
     "text": [
      "Countdown:\n",
      "10\n",
      "9\n",
      "8\n",
      "7\n",
      "6\n",
      "5\n",
      "4\n",
      "3\n",
      "2\n",
      "1\n",
      "0\n",
      "Blast Off!\n"
     ]
    }
   ],
   "source": [
    "## Fixed:\n",
    "print(\"Countdown:\")\n",
    "i = 10\n",
    "while i >= 0:\n",
    "    nap(1)\n",
    "    print(i)\n",
    "#     print(\"This might be an infinite loop, stop it by hitting 'i' twice or \\n\" + # strings may be concatenated\n",
    "#           \"clicking the black square in the toolbox to interrupt the kernel\")\n",
    "    i -= 1 # same as i = i - 1\n",
    "    \n",
    "print('Blast Off!')"
   ]
  },
  {
   "cell_type": "code",
   "execution_count": 42,
   "id": "grave-establishment",
   "metadata": {},
   "outputs": [
    {
     "data": {
      "text/plain": [
       "1j"
      ]
     },
     "execution_count": 42,
     "metadata": {},
     "output_type": "execute_result"
    }
   ],
   "source": [
    "1j"
   ]
  },
  {
   "cell_type": "code",
   "execution_count": 43,
   "id": "laughing-calgary",
   "metadata": {},
   "outputs": [
    {
     "data": {
      "text/plain": [
       "(1+1j)"
      ]
     },
     "execution_count": 43,
     "metadata": {},
     "output_type": "execute_result"
    }
   ],
   "source": [
    "1+1j"
   ]
  },
  {
   "cell_type": "code",
   "execution_count": null,
   "id": "surprising-green",
   "metadata": {},
   "outputs": [],
   "source": []
  }
 ],
 "metadata": {
  "kernelspec": {
   "display_name": "Python 3",
   "language": "python",
   "name": "python3"
  },
  "language_info": {
   "codemirror_mode": {
    "name": "ipython",
    "version": 3
   },
   "file_extension": ".py",
   "mimetype": "text/x-python",
   "name": "python",
   "nbconvert_exporter": "python",
   "pygments_lexer": "ipython3",
   "version": "3.7.6"
  }
 },
 "nbformat": 4,
 "nbformat_minor": 5
}

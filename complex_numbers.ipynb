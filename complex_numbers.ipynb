{
 "cells": [
  {
   "cell_type": "markdown",
   "id": "assumed-number",
   "metadata": {},
   "source": [
    "# Complex Numbers and Math in Python\n",
    "Introduces the use of complex numbers in Python, including the tools provided by the `cmath` module."
   ]
  },
  {
   "cell_type": "markdown",
   "id": "stunning-elevation",
   "metadata": {},
   "source": [
    "## Complex numbers\n",
    "In Python, complex number objects may be created easily using rectangular $a+bi$ coordinates. In Python, instead of $i$, `1j` is used to represent the imaginary unit. It is important to include the `1` because otherwise Python interprets `j` as a variable name, and will give you a variable-undefined error."
   ]
  },
  {
   "cell_type": "code",
   "execution_count": 7,
   "id": "current-appendix",
   "metadata": {},
   "outputs": [
    {
     "name": "stdout",
     "output_type": "stream",
     "text": [
      "(1+2j)\n",
      "(3+4j)\n"
     ]
    }
   ],
   "source": [
    "# some examples:\n",
    "a = 1\n",
    "b = 2\n",
    "z = a + b*1j\n",
    "print(z)\n",
    "\n",
    "# if there is direct multiplication, the 1 can be left out:\n",
    "z2 = 3 + 4j\n",
    "print(z2)"
   ]
  },
  {
   "cell_type": "markdown",
   "id": "looking-answer",
   "metadata": {},
   "source": [
    "The cells below illustrate the basic properties of complex objects in python:"
   ]
  },
  {
   "cell_type": "code",
   "execution_count": 8,
   "id": "still-redhead",
   "metadata": {},
   "outputs": [
    {
     "data": {
      "text/plain": [
       "1.0"
      ]
     },
     "execution_count": 8,
     "metadata": {},
     "output_type": "execute_result"
    }
   ],
   "source": [
    "z.real # there are real and imaginary properties"
   ]
  },
  {
   "cell_type": "code",
   "execution_count": 9,
   "id": "legendary-mercy",
   "metadata": {},
   "outputs": [
    {
     "data": {
      "text/plain": [
       "4.0"
      ]
     },
     "execution_count": 9,
     "metadata": {},
     "output_type": "execute_result"
    }
   ],
   "source": [
    "z2.imag"
   ]
  },
  {
   "cell_type": "code",
   "execution_count": 12,
   "id": "annoying-processing",
   "metadata": {},
   "outputs": [
    {
     "data": {
      "text/plain": [
       "(1-2j)"
      ]
     },
     "execution_count": 12,
     "metadata": {},
     "output_type": "execute_result"
    }
   ],
   "source": [
    "z.conjugate() # note that conjugate is a function and so needs to be called"
   ]
  },
  {
   "cell_type": "markdown",
   "id": "packed-bacon",
   "metadata": {},
   "source": [
    "Basic mathematical operations are performed with typical Python syntax:"
   ]
  },
  {
   "cell_type": "code",
   "execution_count": 20,
   "id": "everyday-setup",
   "metadata": {},
   "outputs": [
    {
     "name": "stdout",
     "output_type": "stream",
     "text": [
      "(4+6j) (-5+10j) (0.44+0.08j)\n"
     ]
    }
   ],
   "source": [
    "print(z+z2, z*z2, z/z2)"
   ]
  },
  {
   "cell_type": "markdown",
   "id": "criminal-lobby",
   "metadata": {},
   "source": [
    "## `cmath` Module\n",
    "The `cmath` module contains more advanced mathematical functions for complex numbers. A few examples are below, but more can be found in the documentation here: https://docs.python.org/3/library/cmath.html"
   ]
  },
  {
   "cell_type": "code",
   "execution_count": 13,
   "id": "invisible-mathematics",
   "metadata": {},
   "outputs": [],
   "source": [
    "import cmath as cm"
   ]
  },
  {
   "cell_type": "code",
   "execution_count": 14,
   "id": "joint-opportunity",
   "metadata": {},
   "outputs": [
    {
     "data": {
      "text/plain": [
       "(-1+2j)"
      ]
     },
     "execution_count": 14,
     "metadata": {},
     "output_type": "execute_result"
    }
   ],
   "source": [
    "[r, theta] = cm.polar(z)\n",
    "theta2 = cm.phase(z2)\n",
    "z3 = cm.rect(r, theta+theta2)\n",
    "z3"
   ]
  },
  {
   "cell_type": "code",
   "execution_count": 15,
   "id": "compatible-freight",
   "metadata": {},
   "outputs": [
    {
     "data": {
      "text/plain": [
       "(0.8047189562170503+2.0344439357957027j)"
      ]
     },
     "execution_count": 15,
     "metadata": {},
     "output_type": "execute_result"
    }
   ],
   "source": [
    "cm.log(z3)"
   ]
  },
  {
   "cell_type": "code",
   "execution_count": 17,
   "id": "functioning-field",
   "metadata": {},
   "outputs": [
    {
     "data": {
      "text/plain": [
       "(1+0j)"
      ]
     },
     "execution_count": 17,
     "metadata": {},
     "output_type": "execute_result"
    }
   ],
   "source": [
    "cm.sin(cm.pi/2)"
   ]
  },
  {
   "cell_type": "code",
   "execution_count": 19,
   "id": "appointed-comfort",
   "metadata": {},
   "outputs": [
    {
     "data": {
      "text/plain": [
       "(0.44721359549995804+0.8944271909999159j)"
      ]
     },
     "execution_count": 19,
     "metadata": {},
     "output_type": "execute_result"
    }
   ],
   "source": [
    "cm.exp(theta*1j)"
   ]
  },
  {
   "cell_type": "markdown",
   "id": "local-mother",
   "metadata": {},
   "source": [
    "## Exercises"
   ]
  },
  {
   "cell_type": "markdown",
   "id": "charitable-eugene",
   "metadata": {},
   "source": [
    "1. Find the square root of $1+1i$. For complex numbers, there are supposed to be $n$ nth roots, which one is returned and how can the other be obtained? Print both in your code."
   ]
  },
  {
   "cell_type": "code",
   "execution_count": 21,
   "id": "regional-account",
   "metadata": {},
   "outputs": [],
   "source": [
    "# soln to 1"
   ]
  },
  {
   "cell_type": "markdown",
   "id": "opened-baking",
   "metadata": {},
   "source": [
    "2. Evaluate the Complex potential for a source at the origin at $-1-i$, $2$, and $3-4i$. Print the results in Cartesian form and their magnitude and phase."
   ]
  },
  {
   "cell_type": "code",
   "execution_count": 43,
   "id": "headed-screen",
   "metadata": {},
   "outputs": [],
   "source": [
    "# soln to 2"
   ]
  },
  {
   "cell_type": "markdown",
   "id": "lesser-fellow",
   "metadata": {},
   "source": [
    "3. Using `cm.polar` write a function to return the kth nth-root of a complex number (treat k as ranging from 0 to n-1). Your code is correct when the output to the cell two cells below is equivalent to `1, j, -1, -j`. (Keep in mind you may get small numbers instead of 0 even for a correct solution)"
   ]
  },
  {
   "cell_type": "code",
   "execution_count": 41,
   "id": "organized-flight",
   "metadata": {},
   "outputs": [],
   "source": [
    "def knRoot(k, n, z):\n",
    "    #\n",
    "    root = None # figure out how to define\n",
    "    return root"
   ]
  },
  {
   "cell_type": "code",
   "execution_count": 42,
   "id": "voluntary-execution",
   "metadata": {},
   "outputs": [
    {
     "name": "stdout",
     "output_type": "stream",
     "text": [
      "(1+0j)\n",
      "(6.123233995736766e-17+1j)\n",
      "(-1+1.2246467991473532e-16j)\n",
      "(-1.8369701987210297e-16-1j)\n"
     ]
    }
   ],
   "source": [
    "z = (1+0j)\n",
    "n = 4\n",
    "\n",
    "for k in range(n):\n",
    "    print(knRoot(k, n, z))"
   ]
  },
  {
   "cell_type": "code",
   "execution_count": null,
   "id": "proud-hamburg",
   "metadata": {},
   "outputs": [],
   "source": [
    "# solution to 3: would not be included in distributed notebook\n",
    "def knRoot(k, n, z):\n",
    "    [r, phi] = cm.polar(z)\n",
    "    root = cm.rect(r**(1/n), phi/n) * cm.exp(2*k*cm.pi/n*1j)\n",
    "    return root"
   ]
  }
 ],
 "metadata": {
  "kernelspec": {
   "display_name": "Python 3",
   "language": "python",
   "name": "python3"
  },
  "language_info": {
   "codemirror_mode": {
    "name": "ipython",
    "version": 3
   },
   "file_extension": ".py",
   "mimetype": "text/x-python",
   "name": "python",
   "nbconvert_exporter": "python",
   "pygments_lexer": "ipython3",
   "version": "3.7.6"
  }
 },
 "nbformat": 4,
 "nbformat_minor": 5
}

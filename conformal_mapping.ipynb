{
 "cells": [
  {
   "cell_type": "code",
   "execution_count": 1,
   "id": "artistic-newcastle",
   "metadata": {},
   "outputs": [],
   "source": [
    "import cmath as cm\n",
    "import numpy as np"
   ]
  },
  {
   "cell_type": "markdown",
   "id": "original-chassis",
   "metadata": {},
   "source": [
    "# Conformal Mappings and Object-Oriented Programming\n",
    "This notebook addresses how conformal mapping may be implemented in Python, first by using functions, then through Object classes, which are introduced and explained."
   ]
  },
  {
   "cell_type": "markdown",
   "id": "everyday-smooth",
   "metadata": {},
   "source": [
    "## Conformal mappings with functions\n",
    "Conformal mappings may be conveniently encoded through a trick called a function closure. Basically, an outer function defines an \"environment\" or \"scope,\" (programming terms which define where a particular variable is defined and able to be used) with some variables in it which are used in an inner function. The inner function is then returned and used in a different environment, but it remembers the variables from the environment where it was originally defined. See the code below for an illustration of how this works for the Schwartz-Christoffel Transformation (see Module section 3.5 at this writing)"
   ]
  },
  {
   "cell_type": "code",
   "execution_count": 31,
   "id": "conditional-graduate",
   "metadata": {},
   "outputs": [
    {
     "name": "stdout",
     "output_type": "stream",
     "text": [
      "error of 0th integral 1.750622044263571e-19\n",
      "error of 1th integral 5.970694498641696e-17\n",
      "alpha: 3.0118989862952563e-17j beta: 0.4999999999999998j\n",
      "real error: 3.1501324661291964e-10\n",
      "imag error: 1.4683529196502502e-09\n",
      "(-1.8986768463939602e-17+0.4999999999999998j)\n"
     ]
    },
    {
     "ename": "NameError",
     "evalue": "name 'alpha' is not defined",
     "output_type": "error",
     "traceback": [
      "\u001b[1;31m---------------------------------------------------------------------------\u001b[0m",
      "\u001b[1;31mNameError\u001b[0m                                 Traceback (most recent call last)",
      "\u001b[1;32m<ipython-input-31-9793e33cdfc2>\u001b[0m in \u001b[0;36m<module>\u001b[1;34m\u001b[0m\n\u001b[0;32m     74\u001b[0m \u001b[0mstep\u001b[0m \u001b[1;33m=\u001b[0m \u001b[0mSCT\u001b[0m\u001b[1;33m(\u001b[0m\u001b[0mx\u001b[0m\u001b[1;33m,\u001b[0m \u001b[0mw\u001b[0m\u001b[1;33m,\u001b[0m \u001b[0mtheta\u001b[0m\u001b[1;33m)\u001b[0m\u001b[1;33m\u001b[0m\u001b[1;33m\u001b[0m\u001b[0m\n\u001b[0;32m     75\u001b[0m \u001b[0mprint\u001b[0m\u001b[1;33m(\u001b[0m\u001b[0mstep\u001b[0m\u001b[1;33m(\u001b[0m\u001b[1;33m-\u001b[0m\u001b[1;36m2.1\u001b[0m\u001b[1;33m+\u001b[0m\u001b[1;36m0.1j\u001b[0m\u001b[1;33m)\u001b[0m\u001b[1;33m)\u001b[0m \u001b[1;31m# should be something with +1j for the imaginary part. ## some sort of logic error ## or maybe quadrature error\u001b[0m\u001b[1;33m\u001b[0m\u001b[1;33m\u001b[0m\u001b[0m\n\u001b[1;32m---> 76\u001b[1;33m \u001b[0mprint\u001b[0m\u001b[1;33m(\u001b[0m\u001b[0malpha\u001b[0m\u001b[1;33m,\u001b[0m \u001b[0mbeta\u001b[0m\u001b[1;33m)\u001b[0m \u001b[1;31m# produces an error -- NameError\u001b[0m\u001b[1;33m\u001b[0m\u001b[1;33m\u001b[0m\u001b[0m\n\u001b[0m",
      "\u001b[1;31mNameError\u001b[0m: name 'alpha' is not defined"
     ]
    }
   ],
   "source": [
    "from scipy.integrate import quad\n",
    "\n",
    "def SCT(xPoints, wVertices, interiorAngles):\n",
    "    \"\"\"\n",
    "    Given the array of x-locations on the real axis, the locations in the w-plane these points are\n",
    "    mapped to, and the interior angles, measured in the w-plane, of the resultant polygon, this\n",
    "    function returns another function which will map a given point or points in the z-plane to the \n",
    "    w-plane by the Schwartz-Christoffel Tranformation\n",
    "    \n",
    "    (This is an example of a docstring in a function, it is so other people can understand the code \n",
    "    and the meaning of the input)\n",
    "    \n",
    "    Inputs:\n",
    "    -------\n",
    "        xPoints: array-like \n",
    "            Represents x_1, x_2,...x_n-1 locations on real axis which are mapped to\n",
    "            w_1, w_2,...w_n-1 in the complex plane for an n-sided polygon\n",
    "        wVertices: array-like\n",
    "            represents w_1, w_2,...w_n-1 vertices of the resultant polygon. Do not include\n",
    "            w_n, because if the polygon is closed x=inf is mapped to w_n\n",
    "        interiorAngles: array-like\n",
    "            the interior angles theta_1, theta_2,...theta_n-1 of the resultant polygon in the w-plane\n",
    "            \n",
    "    Returns:\n",
    "        transform: callable\n",
    "            Function which can be called as w = tranform(z) to find the image of z under the\n",
    "            particular Schwartz-Christoffel transformation.\n",
    "    \"\"\"\n",
    "    \n",
    "    # input checking\n",
    "    w = np.array(wVertices, dtype=np.complex128)\n",
    "    theta = np.array(interiorAngles, dtype=np.complex128)\n",
    "    x = np.array(xPoints, dtype=np.complex128)\n",
    "    Nm1 = len(x) # number of points minus 1\n",
    "    assert len(theta) == Nm1 and len(w) == Nm1, \"Input values must all be arrays of the same length\"\n",
    "    \n",
    "    # SCT uses an indefinite integral (which requires analyticity of the\n",
    "    # integrand, but that is satisfied generally speaking), to do this numerically \n",
    "    # we need some sort of definite (contour) integral. Can go from the origin to z on\n",
    "    # a straight line (or maybe better to go along x-axis and then along arc of radius r)\n",
    "    \n",
    "    # here's the SCT integrand with numpy logic\n",
    "    def integrand(z):\n",
    "        return np.prod((z-x)**(theta/np.pi-1))\n",
    "    \n",
    "    # also, we need to evaluate the integral for the given w-vertices to solve for alpha and beta\n",
    "    # before we can return the function\n",
    "    \n",
    "    # straight line contour integrals to the defined map points\n",
    "    # x is real so no need to divide the integral\n",
    "    integrals = np.zeros(x.shape)\n",
    "    for i in np.arange(Nm1):\n",
    "        integrals[i], _ = quad(lambda t: x[i]*integrand(x[i]*t), 0, 1)\n",
    "        print(f'error of {i}th integral', _) # the error\n",
    "    \n",
    "    linEqnMatrix = np.column_stack((integrals, np.ones(x.shape))) # n-1 x 2 matrix of alpha, beta coefficients\n",
    "    # the system is over-determined but should be consistent, so can use least squares or just first two rows\n",
    "    [alpha, beta], resid, _, _ = np.linalg.lstsq(linEqnMatrix, w, rcond=None)\n",
    "    \n",
    "    print('alpha:', alpha, 'beta:', beta) # these are not right, supposed to be 1/pi and 0, instead approx. 0 and 1/2\n",
    "    def transform(z):\n",
    "        real, _ = quad(lambda t: (z*integrand(z*t)).real,0,1)\n",
    "        print('real error:', _)\n",
    "        imag, _ = quad(lambda t: (z*integrand(z*t)).imag,0,1)\n",
    "        print('imag error:', _)\n",
    "        return alpha * (real+imag*1j) + beta\n",
    "    \n",
    "    return transform\n",
    "\n",
    "# test code (compare to Module section 3.5)\n",
    "x = [-1, 1]\n",
    "w = [1j, 0]\n",
    "theta = [3*np.pi/2, np.pi/2]\n",
    "step = SCT(x, w, theta)\n",
    "print(step(-2.1+0.1j)) # should be something with +1j for the imaginary part. ## some sort of logic error ## or maybe quadrature error\n",
    "print(alpha, beta) # produces an error -- NameError"
   ]
  },
  {
   "cell_type": "markdown",
   "id": "brave-globe",
   "metadata": {},
   "source": [
    "In the example above, the constants alpha and beta are computed in the body of SCT and used within the `transform` function. They cannot be accessed outside the function `SCT`, as illustrated by the last line of code producing an error. However, the function `step` returned by `SCT` is clearly able to access their values and compute the correct answer."
   ]
  },
  {
   "cell_type": "markdown",
   "id": "recognized-difficulty",
   "metadata": {},
   "source": [
    "## Conformal mapping with objects\n",
    "code like the SCT above is very handy, but what if you wanted to know alpha and beta after they were computed? What if you wanted to easily double check that the set of angles fed to it was correct? What if you wanted to evaluate the inverse transform easily, since it would use the same set of parameters but could require an entirely different function?\n",
    "\n",
    "Objects provide the answer to these types of questions by combining several relevant pieces of data or 'fields' and functions or 'methods' under one interface. We have already met a few objects, such as Python's `complex` data type, which has the fields `.real` and `.imag` and the method `.conjugate`, as well as numpy arrays, matplotlib figures and axes, and really everything in Python. Here though, we will look at how such objects are made and how we can use that interface for defining conformal mappings."
   ]
  },
  {
   "cell_type": "markdown",
   "id": "julian-arrival",
   "metadata": {},
   "source": [
    "Below is an example of how a simple transformation like a rotation may be encoded and used as a 'class,' a programming construct which defines an object."
   ]
  },
  {
   "cell_type": "code",
   "execution_count": 8,
   "id": "prescription-couple",
   "metadata": {},
   "outputs": [
    {
     "name": "stdout",
     "output_type": "stream",
     "text": [
      "Rotation of 2 by 0.7853981633974483 radians yields (1.4142135623730951+1.4142135623730951j)\n",
      "(1.2246467991473532e-16+2j)\n",
      "True\n",
      "0.7853981633974483\n",
      "True\n"
     ]
    },
    {
     "ename": "AttributeError",
     "evalue": "can't set attribute",
     "output_type": "error",
     "traceback": [
      "\u001b[1;31m---------------------------------------------------------------------------\u001b[0m",
      "\u001b[1;31mAttributeError\u001b[0m                            Traceback (most recent call last)",
      "\u001b[1;32m<ipython-input-8-a0bfee4f3dfe>\u001b[0m in \u001b[0;36m<module>\u001b[1;34m\u001b[0m\n\u001b[0;32m     60\u001b[0m \u001b[0mprint\u001b[0m\u001b[1;33m(\u001b[0m\u001b[0mr\u001b[0m\u001b[1;33m.\u001b[0m\u001b[0mtheta\u001b[0m\u001b[1;33m==\u001b[0m\u001b[0mnp\u001b[0m\u001b[1;33m.\u001b[0m\u001b[0mpi\u001b[0m\u001b[1;33m/\u001b[0m\u001b[1;36m2\u001b[0m\u001b[1;33m)\u001b[0m \u001b[1;31m# call the getter to reveal the change.\u001b[0m\u001b[1;33m\u001b[0m\u001b[1;33m\u001b[0m\u001b[0m\n\u001b[0;32m     61\u001b[0m \u001b[1;31m# trying to set to the getter results in an error, and so theta's value is usually protected\u001b[0m\u001b[1;33m\u001b[0m\u001b[1;33m\u001b[0m\u001b[1;33m\u001b[0m\u001b[0m\n\u001b[1;32m---> 62\u001b[1;33m \u001b[0mr\u001b[0m\u001b[1;33m.\u001b[0m\u001b[0mtheta\u001b[0m \u001b[1;33m=\u001b[0m \u001b[0mnp\u001b[0m\u001b[1;33m.\u001b[0m\u001b[0mpi\u001b[0m\u001b[1;33m\u001b[0m\u001b[1;33m\u001b[0m\u001b[0m\n\u001b[0m",
      "\u001b[1;31mAttributeError\u001b[0m: can't set attribute"
     ]
    }
   ],
   "source": [
    "class Rotation():\n",
    "    \n",
    "    # first, the method that allows the creation of an object,\n",
    "    # __init__() is not typically called by the user of a class\n",
    "    # rather, the Python Interpreter invokes it when a user writes\n",
    "    # Rotation(theta)\n",
    "    def __init__(self, theta):\n",
    "        self._theta = theta\n",
    "        # self is conventionally used to represent the object within the class\n",
    "        # but any word can be used (Java programmers are free to substitute `this`\n",
    "        # for example)\n",
    "        \n",
    "        # We do not want the user easily accessing theta, because\n",
    "        # once the rotation is created, we want it to stay the same,\n",
    "        # thus the _theta (though the user is not prevented from accessing it, \n",
    "        # the name is less obvious)\n",
    "    \n",
    "    # we do want the user to be able to see what the value of theta is,\n",
    "    # so this method, a 'getter,' provides that capability. If theta was to be allowed to change\n",
    "    # we would uncomment the method below this one.\n",
    "    @property\n",
    "    def theta(self):\n",
    "        return self._theta\n",
    "    \n",
    "#     @property.setter\n",
    "#     def theta(self, new_theta):\n",
    "#         self._theta = new_theta\n",
    "    \n",
    "    # this method will return the result of an inverse rotation\n",
    "    # through the same angle\n",
    "    def inv(self, z):\n",
    "        return cm.exp(-self._theta*1j)*z\n",
    "    \n",
    "    # like __init__, this is a special method the Python Interpreter\n",
    "    # automatically looks for when a user invokes a function. so if \n",
    "    # r is a Rotation by 90 degrees, ie, r = Rotation(np.pi/2) has been invoked\n",
    "    # then r(1) will return 1j by calling r.__call__(1)\n",
    "    def __call__(self, z):\n",
    "        return cm.exp(self._theta*1j)*z\n",
    "    \n",
    "    # an example of a factory method, gives an alternate way\n",
    "    # to instantiate the class/create an object because it calls the\n",
    "    # constructor.\n",
    "    @classmethod\n",
    "    def inDegrees(cls, theta_deg): # passes the class instead of the object\n",
    "        return cls(theta_deg/180*np.pi)\n",
    "    \n",
    "# test code:\n",
    "r = Rotation(np.pi/4)\n",
    "z = 2\n",
    "print(\"Rotation of {} by {} radians yields {}\".format(z, r.theta, r(z)))\n",
    "\n",
    "r2 = Rotation.inDegrees(90) # use of factory method\n",
    "print(r2(z)) # approx 2j is expected\n",
    "print(r2.inv(r2(z)) == z) # True is expected\n",
    "\n",
    "# this illustrates accessibility of r._theta vs. r.theta\n",
    "print(r._theta)\n",
    "r._theta = np.pi/2 # sneakily set theta with the 'private' variable\n",
    "print(r.theta==np.pi/2) # call the getter to reveal the change.\n",
    "# trying to set to the getter results in an error, and so theta's value is usually protected\n",
    "r.theta = np.pi"
   ]
  },
  {
   "cell_type": "markdown",
   "id": "supposed-invasion",
   "metadata": {},
   "source": [
    "## Exercises"
   ]
  },
  {
   "cell_type": "markdown",
   "id": "infinite-promise",
   "metadata": {},
   "source": [
    "1. Write a class for Mobius Tranforms using the structure below as a guide."
   ]
  },
  {
   "cell_type": "code",
   "execution_count": null,
   "id": "optical-logging",
   "metadata": {},
   "outputs": [],
   "source": [
    "class Mobius():\n",
    "    \"\"\"\n",
    "    write a good doc string\n",
    "    \n",
    "    \"\"\"\n",
    "    \n",
    "    def __init__(self, alpha, beta, gamma, delta): # make the class default to the Cayley tranform if no info is provided\n",
    "        pass\n",
    "    \n",
    "    # define the getters\n",
    "    \n",
    "    # for the tranforms themselves, remember that z=np.inf or z=cm.infj will likely need to be handled explicitly\n",
    "    def __call__(self, z):\n",
    "        pass\n",
    "    \n",
    "    def inv(self, z):\n",
    "        pass\n",
    "    \n",
    "    # also include a few factory methods which give other ways to define a Mobius transform:\n",
    "    @classmethod\n",
    "    def from3PointMapping(cls, z1to3, w1to3): \n",
    "        # use cls since it is the class that is passed instead of the object\n",
    "        \n",
    "        # use the implicit form of a MT to calculate the parameters and create\n",
    "        # an object to return to the user:\n",
    "        alpha = beta = gamma = delta = 0\n",
    "        return cls(alpha, beta, gamma, delta)\n",
    "    \n",
    "# illustrate the capabilities of your class with test code\n",
    "        "
   ]
  },
  {
   "cell_type": "code",
   "execution_count": null,
   "id": "reduced-generic",
   "metadata": {},
   "outputs": [],
   "source": [
    "# exercises: have them write a class for Mobius transforms\n",
    "    # it should default to a Cayley transform\n",
    "    \n",
    "# closure for translations? what was the concentric circles to confocal ellipses one--Junkowski Tranform"
   ]
  }
 ],
 "metadata": {
  "kernelspec": {
   "display_name": "Python 3",
   "language": "python",
   "name": "python3"
  },
  "language_info": {
   "codemirror_mode": {
    "name": "ipython",
    "version": 3
   },
   "file_extension": ".py",
   "mimetype": "text/x-python",
   "name": "python",
   "nbconvert_exporter": "python",
   "pygments_lexer": "ipython3",
   "version": "3.7.6"
  }
 },
 "nbformat": 4,
 "nbformat_minor": 5
}
